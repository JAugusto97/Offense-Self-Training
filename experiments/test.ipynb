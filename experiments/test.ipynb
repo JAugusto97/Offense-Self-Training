{
 "cells": [
  {
   "cell_type": "code",
   "execution_count": 1,
   "metadata": {},
   "outputs": [],
   "source": [
    "import sys\n",
    "\n",
    "sys.path.append(\"..\")"
   ]
  },
  {
   "cell_type": "code",
   "execution_count": 2,
   "metadata": {},
   "outputs": [],
   "source": [
    "import os\n",
    "from noisystudent import NoisyStudent\n",
    "from experiments import load_dataset, set_seed, get_logger"
   ]
  },
  {
   "cell_type": "code",
   "execution_count": 3,
   "metadata": {},
   "outputs": [],
   "source": [
    "DATASET_NAME = \"olidv1\"\n",
    "LOG_PATH = os.path.join(\"logs\", f\"experiment-{DATASET_NAME}\")"
   ]
  },
  {
   "cell_type": "code",
   "execution_count": 4,
   "metadata": {},
   "outputs": [],
   "source": [
    "logger = get_logger(level=\"info\", filename=LOG_PATH)"
   ]
  },
  {
   "cell_type": "code",
   "execution_count": 5,
   "metadata": {},
   "outputs": [],
   "source": [
    "train_df, dev_df, test_df, weak_label_df = load_dataset(\"olidv1\")"
   ]
  },
  {
   "cell_type": "code",
   "execution_count": 6,
   "metadata": {},
   "outputs": [],
   "source": [
    "train_df = train_df.sample(100)\n",
    "test_df = test_df.sample(100)\n",
    "weak_label_df = weak_label_df.sample(200)"
   ]
  },
  {
   "cell_type": "code",
   "execution_count": 7,
   "metadata": {},
   "outputs": [
    {
     "name": "stderr",
     "output_type": "stream",
     "text": [
      "Some weights of the model checkpoint at distilbert-base-cased were not used when initializing DistilBertForSequenceClassification: ['vocab_transform.weight', 'vocab_layer_norm.bias', 'vocab_projector.weight', 'vocab_layer_norm.weight', 'vocab_transform.bias', 'vocab_projector.bias']\n",
      "- This IS expected if you are initializing DistilBertForSequenceClassification from the checkpoint of a model trained on another task or with another architecture (e.g. initializing a BertForSequenceClassification model from a BertForPreTraining model).\n",
      "- This IS NOT expected if you are initializing DistilBertForSequenceClassification from the checkpoint of a model that you expect to be exactly identical (initializing a BertForSequenceClassification model from a BertForSequenceClassification model).\n",
      "Some weights of DistilBertForSequenceClassification were not initialized from the model checkpoint at distilbert-base-cased and are newly initialized: ['pre_classifier.weight', 'classifier.bias', 'pre_classifier.bias', 'classifier.weight']\n",
      "You should probably TRAIN this model on a down-stream task to be able to use it for predictions and inference.\n"
     ]
    }
   ],
   "source": [
    "ns = NoisyStudent(\"distilbert-base-cased\", device=\"cpu\", max_seq_len=64, batch_size=8)"
   ]
  },
  {
   "cell_type": "code",
   "execution_count": 8,
   "metadata": {},
   "outputs": [
    {
     "name": "stderr",
     "output_type": "stream",
     "text": [
      "Training:  50%|█████     | 13/26 [00:22<00:20,  1.57s/it]"
     ]
    },
    {
     "ename": "TypeError",
     "evalue": "Object of type int64 is not JSON serializable",
     "output_type": "error",
     "traceback": [
      "\u001b[0;31m---------------------------------------------------------------------------\u001b[0m",
      "\u001b[0;31mTypeError\u001b[0m                                 Traceback (most recent call last)",
      "\u001b[1;32m/mnt/c/Users/joaoa/code/noisy-offensive-student/experiments/test.ipynb Cell 8'\u001b[0m in \u001b[0;36m<cell line: 1>\u001b[0;34m()\u001b[0m\n\u001b[0;32m----> <a href='vscode-notebook-cell://wsl%2Bubuntu/mnt/c/Users/joaoa/code/noisy-offensive-student/experiments/test.ipynb#ch0000009vscode-remote?line=0'>1</a>\u001b[0m ns\u001b[39m.\u001b[39;49mfit(train_df\u001b[39m=\u001b[39;49mtrain_df, dev_df\u001b[39m=\u001b[39;49mdev_df, test_df\u001b[39m=\u001b[39;49mtest_df, unlabeled_df\u001b[39m=\u001b[39;49mweak_label_df, num_iters\u001b[39m=\u001b[39;49m\u001b[39m1\u001b[39;49m, min_confidence_threshold\u001b[39m=\u001b[39;49m\u001b[39m0.9\u001b[39;49m)\n",
      "File \u001b[0;32m/mnt/c/Users/joaoa/code/noisy-offensive-student/experiments/../noisystudent/noisystudent.py:527\u001b[0m, in \u001b[0;36mfit\u001b[0;34m(self, train_df, test_df, unlabeled_df, min_confidence_threshold, num_iters, dev_df, increase_attention_dropout_amount, increase_classifier_dropout_amount, increase_confidence_threshold_amount, use_augmentation)\u001b[0m\n\u001b[1;32m    <a href='file:///mnt/c/Users/joaoa/code/noisy-offensive-student/experiments/../noisystudent/noisystudent.py?line=523'>524</a>\u001b[0m current_classifier_dropout = self.classifier_dropout\n\u001b[1;32m    <a href='file:///mnt/c/Users/joaoa/code/noisy-offensive-student/experiments/../noisystudent/noisystudent.py?line=524'>525</a>\u001b[0m current_confidence_threshold = min_confidence_threshold\n\u001b[0;32m--> <a href='file:///mnt/c/Users/joaoa/code/noisy-offensive-student/experiments/../noisystudent/noisystudent.py?line=526'>527</a>\u001b[0m # train teacher model\n\u001b[1;32m    <a href='file:///mnt/c/Users/joaoa/code/noisy-offensive-student/experiments/../noisystudent/noisystudent.py?line=527'>528</a>\u001b[0m self.__train(\n\u001b[1;32m    <a href='file:///mnt/c/Users/joaoa/code/noisy-offensive-student/experiments/../noisystudent/noisystudent.py?line=528'>529</a>\u001b[0m     train_dataloader=train_dataloader,\n\u001b[1;32m    <a href='file:///mnt/c/Users/joaoa/code/noisy-offensive-student/experiments/../noisystudent/noisystudent.py?line=529'>530</a>\u001b[0m     dev_dataloader=dev_dataloader,\n\u001b[0;32m   (...)\u001b[0m\n\u001b[1;32m    <a href='file:///mnt/c/Users/joaoa/code/noisy-offensive-student/experiments/../noisystudent/noisystudent.py?line=532'>533</a>\u001b[0m     use_augmentation=use_augmentation,\n\u001b[1;32m    <a href='file:///mnt/c/Users/joaoa/code/noisy-offensive-student/experiments/../noisystudent/noisystudent.py?line=533'>534</a>\u001b[0m )\n\u001b[1;32m    <a href='file:///mnt/c/Users/joaoa/code/noisy-offensive-student/experiments/../noisystudent/noisystudent.py?line=535'>536</a>\u001b[0m _, acc, f1 = self.score(test_dataloader)\n",
      "File \u001b[0;32m/mnt/c/Users/joaoa/code/noisy-offensive-student/experiments/../noisystudent/noisystudent.py:291\u001b[0m, in \u001b[0;36mNoisyStudent.__train\u001b[0;34m(self, train_dataloader, evaluate_during_training, is_student, dump_train_history, clip_grad, dev_dataloader, weak_label_dataloader, unl_to_label_batch_ratio, use_augmentation)\u001b[0m\n\u001b[1;32m    <a href='file:///mnt/c/Users/joaoa/code/noisy-offensive-student/experiments/../noisystudent/noisystudent.py?line=288'>289</a>\u001b[0m avg_train_loss \u001b[39m=\u001b[39m total_loss \u001b[39m/\u001b[39m \u001b[39mlen\u001b[39m(train_dataloader)\n\u001b[1;32m    <a href='file:///mnt/c/Users/joaoa/code/noisy-offensive-student/experiments/../noisystudent/noisystudent.py?line=289'>290</a>\u001b[0m \u001b[39mif\u001b[39;00m evaluate_during_training:\n\u001b[0;32m--> <a href='file:///mnt/c/Users/joaoa/code/noisy-offensive-student/experiments/../noisystudent/noisystudent.py?line=290'>291</a>\u001b[0m     val_loss, val_accuracy, _ \u001b[39m=\u001b[39m \u001b[39mself\u001b[39;49m\u001b[39m.\u001b[39;49mscore(dev_dataloader)\n\u001b[1;32m    <a href='file:///mnt/c/Users/joaoa/code/noisy-offensive-student/experiments/../noisystudent/noisystudent.py?line=291'>292</a>\u001b[0m     time_elapsed \u001b[39m=\u001b[39m time\u001b[39m.\u001b[39mtime() \u001b[39m-\u001b[39m t0_epoch\n\u001b[1;32m    <a href='file:///mnt/c/Users/joaoa/code/noisy-offensive-student/experiments/../noisystudent/noisystudent.py?line=293'>294</a>\u001b[0m     \u001b[39mif\u001b[39;00m is_student:\n",
      "File \u001b[0;32m/mnt/c/Users/joaoa/code/noisy-offensive-student/experiments/../noisystudent/noisystudent.py:383\u001b[0m, in \u001b[0;36mNoisyStudent.score\u001b[0;34m(self, test_dataloader, dump_test_history)\u001b[0m\n\u001b[1;32m    <a href='file:///mnt/c/Users/joaoa/code/noisy-offensive-student/experiments/../noisystudent/noisystudent.py?line=379'>380</a>\u001b[0m     history[\u001b[39m\"\u001b[39m\u001b[39mval_loss\u001b[39m\u001b[39m\"\u001b[39m] \u001b[39m=\u001b[39m val_loss\n\u001b[1;32m    <a href='file:///mnt/c/Users/joaoa/code/noisy-offensive-student/experiments/../noisystudent/noisystudent.py?line=381'>382</a>\u001b[0m     \u001b[39mwith\u001b[39;00m \u001b[39mopen\u001b[39m(os\u001b[39m.\u001b[39mpath\u001b[39m.\u001b[39mjoin(\u001b[39m\"\u001b[39m\u001b[39mlogs\u001b[39m\u001b[39m\"\u001b[39m, \u001b[39mf\u001b[39m\u001b[39m\"\u001b[39m\u001b[39mtest_history-model\u001b[39m\u001b[39m{\u001b[39;00m\u001b[39mself\u001b[39m\u001b[39m.\u001b[39mnum_noisy_iteration\u001b[39m}\u001b[39;00m\u001b[39m.json\u001b[39m\u001b[39m\"\u001b[39m), \u001b[39m\"\u001b[39m\u001b[39ma+\u001b[39m\u001b[39m\"\u001b[39m) \u001b[39mas\u001b[39;00m f:\n\u001b[0;32m--> <a href='file:///mnt/c/Users/joaoa/code/noisy-offensive-student/experiments/../noisystudent/noisystudent.py?line=382'>383</a>\u001b[0m         json\u001b[39m.\u001b[39;49mdump(history, f)\n\u001b[1;32m    <a href='file:///mnt/c/Users/joaoa/code/noisy-offensive-student/experiments/../noisystudent/noisystudent.py?line=384'>385</a>\u001b[0m \u001b[39mreturn\u001b[39;00m val_loss, val_acc, f1\n",
      "File \u001b[0;32m~/miniforge3/envs/noisystudent/lib/python3.10/json/__init__.py:179\u001b[0m, in \u001b[0;36mdump\u001b[0;34m(obj, fp, skipkeys, ensure_ascii, check_circular, allow_nan, cls, indent, separators, default, sort_keys, **kw)\u001b[0m\n\u001b[1;32m    <a href='file:///home/leite/miniforge3/envs/noisystudent/lib/python3.10/json/__init__.py?line=172'>173</a>\u001b[0m     iterable \u001b[39m=\u001b[39m \u001b[39mcls\u001b[39m(skipkeys\u001b[39m=\u001b[39mskipkeys, ensure_ascii\u001b[39m=\u001b[39mensure_ascii,\n\u001b[1;32m    <a href='file:///home/leite/miniforge3/envs/noisystudent/lib/python3.10/json/__init__.py?line=173'>174</a>\u001b[0m         check_circular\u001b[39m=\u001b[39mcheck_circular, allow_nan\u001b[39m=\u001b[39mallow_nan, indent\u001b[39m=\u001b[39mindent,\n\u001b[1;32m    <a href='file:///home/leite/miniforge3/envs/noisystudent/lib/python3.10/json/__init__.py?line=174'>175</a>\u001b[0m         separators\u001b[39m=\u001b[39mseparators,\n\u001b[1;32m    <a href='file:///home/leite/miniforge3/envs/noisystudent/lib/python3.10/json/__init__.py?line=175'>176</a>\u001b[0m         default\u001b[39m=\u001b[39mdefault, sort_keys\u001b[39m=\u001b[39msort_keys, \u001b[39m*\u001b[39m\u001b[39m*\u001b[39mkw)\u001b[39m.\u001b[39miterencode(obj)\n\u001b[1;32m    <a href='file:///home/leite/miniforge3/envs/noisystudent/lib/python3.10/json/__init__.py?line=176'>177</a>\u001b[0m \u001b[39m# could accelerate with writelines in some versions of Python, at\u001b[39;00m\n\u001b[1;32m    <a href='file:///home/leite/miniforge3/envs/noisystudent/lib/python3.10/json/__init__.py?line=177'>178</a>\u001b[0m \u001b[39m# a debuggability cost\u001b[39;00m\n\u001b[0;32m--> <a href='file:///home/leite/miniforge3/envs/noisystudent/lib/python3.10/json/__init__.py?line=178'>179</a>\u001b[0m \u001b[39mfor\u001b[39;00m chunk \u001b[39min\u001b[39;00m iterable:\n\u001b[1;32m    <a href='file:///home/leite/miniforge3/envs/noisystudent/lib/python3.10/json/__init__.py?line=179'>180</a>\u001b[0m     fp\u001b[39m.\u001b[39mwrite(chunk)\n",
      "File \u001b[0;32m~/miniforge3/envs/noisystudent/lib/python3.10/json/encoder.py:431\u001b[0m, in \u001b[0;36m_make_iterencode.<locals>._iterencode\u001b[0;34m(o, _current_indent_level)\u001b[0m\n\u001b[1;32m    <a href='file:///home/leite/miniforge3/envs/noisystudent/lib/python3.10/json/encoder.py?line=428'>429</a>\u001b[0m     \u001b[39myield from\u001b[39;00m _iterencode_list(o, _current_indent_level)\n\u001b[1;32m    <a href='file:///home/leite/miniforge3/envs/noisystudent/lib/python3.10/json/encoder.py?line=429'>430</a>\u001b[0m \u001b[39melif\u001b[39;00m \u001b[39misinstance\u001b[39m(o, \u001b[39mdict\u001b[39m):\n\u001b[0;32m--> <a href='file:///home/leite/miniforge3/envs/noisystudent/lib/python3.10/json/encoder.py?line=430'>431</a>\u001b[0m     \u001b[39myield from\u001b[39;00m _iterencode_dict(o, _current_indent_level)\n\u001b[1;32m    <a href='file:///home/leite/miniforge3/envs/noisystudent/lib/python3.10/json/encoder.py?line=431'>432</a>\u001b[0m \u001b[39melse\u001b[39;00m:\n\u001b[1;32m    <a href='file:///home/leite/miniforge3/envs/noisystudent/lib/python3.10/json/encoder.py?line=432'>433</a>\u001b[0m     \u001b[39mif\u001b[39;00m markers \u001b[39mis\u001b[39;00m \u001b[39mnot\u001b[39;00m \u001b[39mNone\u001b[39;00m:\n",
      "File \u001b[0;32m~/miniforge3/envs/noisystudent/lib/python3.10/json/encoder.py:405\u001b[0m, in \u001b[0;36m_make_iterencode.<locals>._iterencode_dict\u001b[0;34m(dct, _current_indent_level)\u001b[0m\n\u001b[1;32m    <a href='file:///home/leite/miniforge3/envs/noisystudent/lib/python3.10/json/encoder.py?line=402'>403</a>\u001b[0m         \u001b[39melse\u001b[39;00m:\n\u001b[1;32m    <a href='file:///home/leite/miniforge3/envs/noisystudent/lib/python3.10/json/encoder.py?line=403'>404</a>\u001b[0m             chunks \u001b[39m=\u001b[39m _iterencode(value, _current_indent_level)\n\u001b[0;32m--> <a href='file:///home/leite/miniforge3/envs/noisystudent/lib/python3.10/json/encoder.py?line=404'>405</a>\u001b[0m         \u001b[39myield from\u001b[39;00m chunks\n\u001b[1;32m    <a href='file:///home/leite/miniforge3/envs/noisystudent/lib/python3.10/json/encoder.py?line=405'>406</a>\u001b[0m \u001b[39mif\u001b[39;00m newline_indent \u001b[39mis\u001b[39;00m \u001b[39mnot\u001b[39;00m \u001b[39mNone\u001b[39;00m:\n\u001b[1;32m    <a href='file:///home/leite/miniforge3/envs/noisystudent/lib/python3.10/json/encoder.py?line=406'>407</a>\u001b[0m     _current_indent_level \u001b[39m-\u001b[39m\u001b[39m=\u001b[39m \u001b[39m1\u001b[39m\n",
      "File \u001b[0;32m~/miniforge3/envs/noisystudent/lib/python3.10/json/encoder.py:325\u001b[0m, in \u001b[0;36m_make_iterencode.<locals>._iterencode_list\u001b[0;34m(lst, _current_indent_level)\u001b[0m\n\u001b[1;32m    <a href='file:///home/leite/miniforge3/envs/noisystudent/lib/python3.10/json/encoder.py?line=322'>323</a>\u001b[0m         \u001b[39melse\u001b[39;00m:\n\u001b[1;32m    <a href='file:///home/leite/miniforge3/envs/noisystudent/lib/python3.10/json/encoder.py?line=323'>324</a>\u001b[0m             chunks \u001b[39m=\u001b[39m _iterencode(value, _current_indent_level)\n\u001b[0;32m--> <a href='file:///home/leite/miniforge3/envs/noisystudent/lib/python3.10/json/encoder.py?line=324'>325</a>\u001b[0m         \u001b[39myield from\u001b[39;00m chunks\n\u001b[1;32m    <a href='file:///home/leite/miniforge3/envs/noisystudent/lib/python3.10/json/encoder.py?line=325'>326</a>\u001b[0m \u001b[39mif\u001b[39;00m newline_indent \u001b[39mis\u001b[39;00m \u001b[39mnot\u001b[39;00m \u001b[39mNone\u001b[39;00m:\n\u001b[1;32m    <a href='file:///home/leite/miniforge3/envs/noisystudent/lib/python3.10/json/encoder.py?line=326'>327</a>\u001b[0m     _current_indent_level \u001b[39m-\u001b[39m\u001b[39m=\u001b[39m \u001b[39m1\u001b[39m\n",
      "File \u001b[0;32m~/miniforge3/envs/noisystudent/lib/python3.10/json/encoder.py:438\u001b[0m, in \u001b[0;36m_make_iterencode.<locals>._iterencode\u001b[0;34m(o, _current_indent_level)\u001b[0m\n\u001b[1;32m    <a href='file:///home/leite/miniforge3/envs/noisystudent/lib/python3.10/json/encoder.py?line=435'>436</a>\u001b[0m         \u001b[39mraise\u001b[39;00m \u001b[39mValueError\u001b[39;00m(\u001b[39m\"\u001b[39m\u001b[39mCircular reference detected\u001b[39m\u001b[39m\"\u001b[39m)\n\u001b[1;32m    <a href='file:///home/leite/miniforge3/envs/noisystudent/lib/python3.10/json/encoder.py?line=436'>437</a>\u001b[0m     markers[markerid] \u001b[39m=\u001b[39m o\n\u001b[0;32m--> <a href='file:///home/leite/miniforge3/envs/noisystudent/lib/python3.10/json/encoder.py?line=437'>438</a>\u001b[0m o \u001b[39m=\u001b[39m _default(o)\n\u001b[1;32m    <a href='file:///home/leite/miniforge3/envs/noisystudent/lib/python3.10/json/encoder.py?line=438'>439</a>\u001b[0m \u001b[39myield from\u001b[39;00m _iterencode(o, _current_indent_level)\n\u001b[1;32m    <a href='file:///home/leite/miniforge3/envs/noisystudent/lib/python3.10/json/encoder.py?line=439'>440</a>\u001b[0m \u001b[39mif\u001b[39;00m markers \u001b[39mis\u001b[39;00m \u001b[39mnot\u001b[39;00m \u001b[39mNone\u001b[39;00m:\n",
      "File \u001b[0;32m~/miniforge3/envs/noisystudent/lib/python3.10/json/encoder.py:179\u001b[0m, in \u001b[0;36mJSONEncoder.default\u001b[0;34m(self, o)\u001b[0m\n\u001b[1;32m    <a href='file:///home/leite/miniforge3/envs/noisystudent/lib/python3.10/json/encoder.py?line=159'>160</a>\u001b[0m \u001b[39mdef\u001b[39;00m \u001b[39mdefault\u001b[39m(\u001b[39mself\u001b[39m, o):\n\u001b[1;32m    <a href='file:///home/leite/miniforge3/envs/noisystudent/lib/python3.10/json/encoder.py?line=160'>161</a>\u001b[0m     \u001b[39m\"\"\"Implement this method in a subclass such that it returns\u001b[39;00m\n\u001b[1;32m    <a href='file:///home/leite/miniforge3/envs/noisystudent/lib/python3.10/json/encoder.py?line=161'>162</a>\u001b[0m \u001b[39m    a serializable object for ``o``, or calls the base implementation\u001b[39;00m\n\u001b[1;32m    <a href='file:///home/leite/miniforge3/envs/noisystudent/lib/python3.10/json/encoder.py?line=162'>163</a>\u001b[0m \u001b[39m    (to raise a ``TypeError``).\u001b[39;00m\n\u001b[0;32m   (...)\u001b[0m\n\u001b[1;32m    <a href='file:///home/leite/miniforge3/envs/noisystudent/lib/python3.10/json/encoder.py?line=176'>177</a>\u001b[0m \n\u001b[1;32m    <a href='file:///home/leite/miniforge3/envs/noisystudent/lib/python3.10/json/encoder.py?line=177'>178</a>\u001b[0m \u001b[39m    \"\"\"\u001b[39;00m\n\u001b[0;32m--> <a href='file:///home/leite/miniforge3/envs/noisystudent/lib/python3.10/json/encoder.py?line=178'>179</a>\u001b[0m     \u001b[39mraise\u001b[39;00m \u001b[39mTypeError\u001b[39;00m(\u001b[39mf\u001b[39m\u001b[39m'\u001b[39m\u001b[39mObject of type \u001b[39m\u001b[39m{\u001b[39;00mo\u001b[39m.\u001b[39m\u001b[39m__class__\u001b[39m\u001b[39m.\u001b[39m\u001b[39m__name__\u001b[39m\u001b[39m}\u001b[39;00m\u001b[39m \u001b[39m\u001b[39m'\u001b[39m\n\u001b[1;32m    <a href='file:///home/leite/miniforge3/envs/noisystudent/lib/python3.10/json/encoder.py?line=179'>180</a>\u001b[0m                     \u001b[39mf\u001b[39m\u001b[39m'\u001b[39m\u001b[39mis not JSON serializable\u001b[39m\u001b[39m'\u001b[39m)\n",
      "\u001b[0;31mTypeError\u001b[0m: Object of type int64 is not JSON serializable"
     ]
    }
   ],
   "source": [
    "ns.fit(train_df=train_df, dev_df=dev_df, test_df=test_df, unlabeled_df=weak_label_df, num_iters=1, min_confidence_threshold=0.9)"
   ]
  },
  {
   "cell_type": "code",
   "execution_count": null,
   "metadata": {},
   "outputs": [],
   "source": []
  }
 ],
 "metadata": {
  "interpreter": {
   "hash": "603cf3a4d18c2490eb3e05c6a1bf80449960260cc6504027b893f1790f6d2a3e"
  },
  "kernelspec": {
   "display_name": "Python 3.10.4 ('noisystudent')",
   "language": "python",
   "name": "python3"
  },
  "language_info": {
   "codemirror_mode": {
    "name": "ipython",
    "version": 3
   },
   "file_extension": ".py",
   "mimetype": "text/x-python",
   "name": "python",
   "nbconvert_exporter": "python",
   "pygments_lexer": "ipython3",
   "version": "3.10.4"
  },
  "orig_nbformat": 4
 },
 "nbformat": 4,
 "nbformat_minor": 2
}
